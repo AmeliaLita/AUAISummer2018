{
  "nbformat": 4,
  "nbformat_minor": 0,
  "metadata": {
    "colab": {
      "name": "day1b.ipynb",
      "version": "0.3.2",
      "views": {},
      "default_view": {},
      "provenance": [],
      "collapsed_sections": []
    },
    "kernelspec": {
      "name": "python3",
      "display_name": "Python 3"
    }
  },
  "cells": [
    {
      "metadata": {
        "id": "Q05MHFXr9MRY",
        "colab_type": "code",
        "colab": {
          "autoexec": {
            "startup": false,
            "wait_interval": 0
          }
        }
      },
      "cell_type": "code",
      "source": [
        ""
      ],
      "execution_count": 0,
      "outputs": []
    },
    {
      "metadata": {
        "id": "u2Txfaiy9SEV",
        "colab_type": "text"
      },
      "cell_type": "markdown",
      "source": [
        "# AU AI SUMMER 2018\n",
        "\n",
        "### AI Terms\n",
        "- Artificial Intelligence ( AI )\n",
        "- Deep Learing\n",
        "  - Convolution Neural Network ( CNN )\n",
        "  - Deep Neural Networks\n",
        "    - Image Recognition\n",
        "    - Face Recognition\n",
        "    - Gesture Recognation\n",
        "    - Video Search & Analytics\n",
        "    - Speech Recognition & Transtation\n",
        "    - Recommendtion Rngines\n",
        "    - Indexing  & Search\n",
        "  - Recurrent Neural Network ( RNN )\n",
        "  - Speech Recognition\n",
        "- Machine Learning\n",
        "- Natural Intelligence ( NI )\n",
        "- Supervised Learning\n",
        "  - Classification\n",
        "  - Decision Trees\n",
        "  - Regression\n",
        "    - Multiple Linear Regression\n",
        "    - SImple Linear Regression\n",
        "- Unsuperviserd Learning\n",
        "  - Association Rule Mining\n",
        "  - Clustering\n",
        "  \n",
        "<br>\n",
        "_________________________________________________________________________________________________________\n",
        "\n",
        "<br>\n",
        "\n",
        "** AI Challenge ** : Humpback Whale Identification Challenge \n",
        "Can you identify a whale by the picture of its fluke?\n",
        "\n",
        "** Link ** : https://www.kaggle.com/c/whale-categorization-playground/data\n",
        "\n",
        "### Description\n",
        "\n",
        "<p>After centuries of intense whaling, recovering whale populations still have a hard time adapting to warming oceans and struggle to compete every day with the industrial fishing industry for food.\n",
        "\n",
        "<p>To aid whale conservation efforts, scientists use photo surveillance systems to monitor ocean activity. They use the shape of whales’ tails and unique markings found in footage to identify what species of whale they’re analyzing and meticulously log whale pod dynamics and movements. For the past 40 years, most of this work has been done manually by individual scientists, leaving a huge trove of data untapped and underutilized.\n",
        "\n",
        "<p>In this competition, you’re challenged to build an algorithm to identifying whale species in images. You’ll analyze Happy Whale’s database of over 25,000 images, gathered from research institutions and public contributors. By contributing, you’ll help to open rich fields of understanding for marine mammal population dynamics around the globe.\n",
        "\n",
        "<p>We'd like to thank Happy Whale for providing this data and problem. Happy Whale is a platform that uses image process algorithms to let anyone to submit their whale photo and have it automatically identified.\n",
        "  \n",
        "![whale](https://kaggle2.blob.core.windows.net/competitions/kaggle/3333/media/happy-whale.jpg)\n",
        "\n",
        "### Data Description \n",
        "\n",
        "This training data contains thousands of images of humpback whale flukes. Individual whales have been identified by researchers and given an Id. The challenge is to predict the whale Id of images in the test set. What makes this such a challenge is that there are only a few examples for each of 3,000+ whale Ids.\n",
        "\n",
        "### File descriptions\n",
        "\n",
        "- train.zip - a folder containing the training images\n",
        "- train.csv - maps the training Image to the appropriate whale Id. Whales that are not predicted to have a --label identified in the training data should be labeled as new_whale.\n",
        "- test.zip - a folder containing the test images to predict the whale Id\n",
        "- sample_submission.csv - a sample submission file in the correct format"
      ]
    },
    {
      "metadata": {
        "id": "cjydg6TU9VTO",
        "colab_type": "code",
        "colab": {
          "autoexec": {
            "startup": false,
            "wait_interval": 0
          }
        }
      },
      "cell_type": "code",
      "source": [
        ""
      ],
      "execution_count": 0,
      "outputs": []
    },
    {
      "metadata": {
        "id": "7--fooJq9c6V",
        "colab_type": "text"
      },
      "cell_type": "markdown",
      "source": [
        ""
      ]
    }
  ]
}