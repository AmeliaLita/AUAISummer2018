{
  "nbformat": 4,
  "nbformat_minor": 0,
  "metadata": {
    "colab": {
      "name": "day1a.ipynb",
      "version": "0.3.2",
      "views": {},
      "default_view": {},
      "provenance": []
    },
    "kernelspec": {
      "name": "python3",
      "display_name": "Python 3"
    }
  },
  "cells": [
    {
      "metadata": {
        "id": "gM1VwEAYPHoa",
        "colab_type": "text"
      },
      "cell_type": "markdown",
      "source": [
        "# AU AI SUmmer 2018\n",
        "\n",
        "try\n",
        "<br> *italic* <p>_italic again_\n",
        "  \n",
        "  link : https://www.facebook.com/?_rdc=1&_rdr\n",
        "  \n",
        "  picture : ![IMG TAIWAN FINE ART](hhttps://universes.art/fileadmin/media/images/biennials/taipei/taipei_museum/476702-1-eng-GB/taipei_museum.png)"
      ]
    },
    {
      "metadata": {
        "id": "VVkRf8QvnEYo",
        "colab_type": "code",
        "colab": {
          "autoexec": {
            "startup": false,
            "wait_interval": 0
          }
        }
      },
      "cell_type": "code",
      "source": [
        ""
      ],
      "execution_count": 0,
      "outputs": []
    },
    {
      "metadata": {
        "id": "f3qgNPbxTcDn",
        "colab_type": "code",
        "colab": {
          "autoexec": {
            "startup": false,
            "wait_interval": 0
          }
        }
      },
      "cell_type": "code",
      "source": [
        ""
      ],
      "execution_count": 0,
      "outputs": []
    },
    {
      "metadata": {
        "id": "9_EhOnrwTB8c",
        "colab_type": "code",
        "colab": {
          "autoexec": {
            "startup": false,
            "wait_interval": 0
          }
        }
      },
      "cell_type": "code",
      "source": [
        ""
      ],
      "execution_count": 0,
      "outputs": []
    },
    {
      "metadata": {
        "id": "fhRf4fXMPNJr",
        "colab_type": "code",
        "colab": {
          "autoexec": {
            "startup": false,
            "wait_interval": 0
          }
        }
      },
      "cell_type": "code",
      "source": [
        ""
      ],
      "execution_count": 0,
      "outputs": []
    }
  ]
}