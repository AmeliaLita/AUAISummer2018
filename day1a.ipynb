{
  "nbformat": 4,
  "nbformat_minor": 0,
  "metadata": {
    "colab": {
      "name": "day1a.ipynb",
      "version": "0.3.2",
      "provenance": [],
      "include_colab_link": true
    },
    "kernelspec": {
      "name": "python3",
      "display_name": "Python 3"
    }
  },
  "cells": [
    {
      "cell_type": "markdown",
      "metadata": {
        "id": "view-in-github",
        "colab_type": "text"
      },
      "source": [
        "[View in Colaboratory](https://colab.research.google.com/github/kasspk/AUAISummer2018/blob/master/day1a.ipynb)"
      ]
    },
    {
      "metadata": {
        "id": "gM1VwEAYPHoa",
        "colab_type": "text"
      },
      "cell_type": "markdown",
      "source": [
        "# AU AI SUmmer 2018\n",
        "\n",
        "try\n",
        "<br> *italic* <p>_italic again_\n",
        "  \n",
        "  link : https://www.facebook.com/?_rdc=1&_rdr\n",
        "  \n",
        "  picture : ![IMG TAIWAN FINE ART](hhttps://universes.art/fileadmin/media/images/biennials/taipei/taipei_museum/476702-1-eng-GB/taipei_museum.jpg)"
      ]
    },
    {
      "metadata": {
        "id": "f3qgNPbxTcDn",
        "colab_type": "code",
        "colab": {}
      },
      "cell_type": "code",
      "source": [
        ""
      ],
      "execution_count": 0,
      "outputs": []
    },
    {
      "metadata": {
        "id": "9_EhOnrwTB8c",
        "colab_type": "code",
        "colab": {}
      },
      "cell_type": "code",
      "source": [
        ""
      ],
      "execution_count": 0,
      "outputs": []
    },
    {
      "metadata": {
        "id": "fhRf4fXMPNJr",
        "colab_type": "code",
        "colab": {}
      },
      "cell_type": "code",
      "source": [
        ""
      ],
      "execution_count": 0,
      "outputs": []
    }
  ]
}